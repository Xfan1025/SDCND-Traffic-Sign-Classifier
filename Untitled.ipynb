{
 "cells": [
  {
   "cell_type": "code",
   "execution_count": 1,
   "metadata": {
    "collapsed": true
   },
   "outputs": [],
   "source": [
    "import cv2"
   ]
  },
  {
   "cell_type": "code",
   "execution_count": 34,
   "metadata": {
    "collapsed": true
   },
   "outputs": [],
   "source": [
    "im = cv2.imread('./data/online_images/image5.jpg')"
   ]
  },
  {
   "cell_type": "code",
   "execution_count": 35,
   "metadata": {},
   "outputs": [],
   "source": [
    "im = cv2.resize(im, (32, 32))"
   ]
  },
  {
   "cell_type": "code",
   "execution_count": 36,
   "metadata": {},
   "outputs": [
    {
     "data": {
      "text/plain": [
       "(32, 32, 3)"
      ]
     },
     "execution_count": 36,
     "metadata": {},
     "output_type": "execute_result"
    }
   ],
   "source": [
    "im.shape"
   ]
  },
  {
   "cell_type": "code",
   "execution_count": 37,
   "metadata": {
    "collapsed": true
   },
   "outputs": [],
   "source": [
    "import matplotlib.pyplot as plt\n",
    "%matplotlib inline"
   ]
  },
  {
   "cell_type": "code",
   "execution_count": 38,
   "metadata": {},
   "outputs": [
    {
     "data": {
      "text/plain": [
       "<matplotlib.image.AxesImage at 0x226e9438e48>"
      ]
     },
     "execution_count": 38,
     "metadata": {},
     "output_type": "execute_result"
    },
    {
     "data": {
      "image/png": "[encoded data removed]",
      "text/plain": [
       "<matplotlib.figure.Figure at 0x226e9280b70>"
      ]
     },
     "metadata": {},
     "output_type": "display_data"
    }
   ],
   "source": [
    "plt.imshow(im)"
   ]
  },
  {
   "cell_type": "code",
   "execution_count": 39,
   "metadata": {
    "collapsed": true
   },
   "outputs": [],
   "source": [
    "import glob\n",
    "\n",
    "images = [cv2.imread(file) for file in glob.glob(\"./data/online_images/*.jpg\")]"
   ]
  },
  {
   "cell_type": "code",
   "execution_count": 41,
   "metadata": {},
   "outputs": [
    {
     "data": {
      "text/plain": [
       "array([[[241, 242, 240],\n",
       "        [228, 229, 227],\n",
       "        [246, 247, 245],\n",
       "        ..., \n",
       "        [224, 228, 193],\n",
       "        [220, 224, 189],\n",
       "        [220, 224, 189]],\n",
       "\n",
       "       [[241, 242, 240],\n",
       "        [227, 228, 226],\n",
       "        [245, 246, 244],\n",
       "        ..., \n",
       "        [123, 122, 101],\n",
       "        [129, 128, 107],\n",
       "        [129, 128, 107]],\n",
       "\n",
       "       [[240, 241, 239],\n",
       "        [227, 228, 226],\n",
       "        [245, 246, 244],\n",
       "        ..., \n",
       "        [175, 170, 167],\n",
       "        [175, 170, 167],\n",
       "        [175, 170, 167]],\n",
       "\n",
       "       ..., \n",
       "       [[141, 144, 149],\n",
       "        [142, 145, 150],\n",
       "        [142, 145, 150],\n",
       "        ..., \n",
       "        [132, 132, 138],\n",
       "        [133, 133, 139],\n",
       "        [133, 133, 139]],\n",
       "\n",
       "       [[139, 142, 147],\n",
       "        [139, 142, 147],\n",
       "        [140, 143, 148],\n",
       "        ..., \n",
       "        [130, 130, 136],\n",
       "        [133, 133, 139],\n",
       "        [133, 133, 139]],\n",
       "\n",
       "       [[138, 141, 146],\n",
       "        [139, 142, 147],\n",
       "        [139, 142, 147],\n",
       "        ..., \n",
       "        [127, 127, 133],\n",
       "        [128, 128, 134],\n",
       "        [128, 128, 134]]], dtype=uint8)"
      ]
     },
     "execution_count": 41,
     "metadata": {},
     "output_type": "execute_result"
    }
   ],
   "source": [
    "images[0]"
   ]
  },
  {
   "cell_type": "code",
   "execution_count": null,
   "metadata": {
    "collapsed": true
   },
   "outputs": [],
   "source": []
  }
 ],
 "metadata": {
  "kernelspec": {
   "display_name": "Python 3",
   "language": "python",
   "name": "python3"
  },
  "language_info": {
   "codemirror_mode": {
    "name": "ipython",
    "version": 3
   },
   "file_extension": ".py",
   "mimetype": "text/x-python",
   "name": "python",
   "nbconvert_exporter": "python",
   "pygments_lexer": "ipython3",
   "version": "3.6.2"
  }
 },
 "nbformat": 4,
 "nbformat_minor": 2
}
